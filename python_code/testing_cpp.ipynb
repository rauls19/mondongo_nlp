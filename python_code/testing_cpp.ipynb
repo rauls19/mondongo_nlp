{
 "cells": [
  {
   "attachments": {},
   "cell_type": "markdown",
   "metadata": {},
   "source": [
    "## SPARSE MATRIX"
   ]
  },
  {
   "attachments": {},
   "cell_type": "markdown",
   "metadata": {},
   "source": [
    "### CSR"
   ]
  },
  {
   "cell_type": "code",
   "execution_count": 28,
   "metadata": {},
   "outputs": [],
   "source": [
    "import scipy\n",
    "import numpy as np"
   ]
  },
  {
   "cell_type": "code",
   "execution_count": 27,
   "metadata": {},
   "outputs": [
    {
     "name": "stdout",
     "output_type": "stream",
     "text": [
      "indptr  [0 3 6]\n",
      "column  [0 1 0 2 3 1]\n",
      "shape  (2, 4)\n",
      "data  [1 1 1 1 1 1]\n",
      "csr\n",
      "  (0, 0)\t1\n",
      "  (0, 1)\t1\n",
      "  (0, 0)\t1\n",
      "  (1, 2)\t1\n",
      "  (1, 3)\t1\n",
      "  (1, 1)\t1\n",
      "array\n",
      "[[2 1 0 0]\n",
      " [0 1 1 1]]\n"
     ]
    }
   ],
   "source": [
    "# TEST CASE - 1\n",
    "docs = [[\"hello\", \"world\", \"hello\"], [\"goodbye\", \"cruel\", \"world\"]]\n",
    "indptr = [0]\n",
    "indices = []\n",
    "data = []\n",
    "vocabulary = {}\n",
    "for d in docs:\n",
    "    for term in d:\n",
    "        index = vocabulary.setdefault(term, len(vocabulary))\n",
    "        indices.append(index)\n",
    "        data.append(1)\n",
    "    indptr.append(len(indices))\n",
    "csr_mat = scipy.sparse.csr_matrix((data, indices, indptr), dtype=int)\n",
    "print(\"indptr \", csr_mat.indptr)\n",
    "print(\"column \", csr_mat.indices)\n",
    "print(\"shape \", csr_mat.shape)\n",
    "print(\"data \", csr_mat.data)\n",
    "print(\"csr\")\n",
    "print(csr_mat)\n",
    "print(\"array\")\n",
    "print(csr_mat.toarray())"
   ]
  },
  {
   "cell_type": "code",
   "execution_count": 32,
   "metadata": {},
   "outputs": [
    {
     "name": "stdout",
     "output_type": "stream",
     "text": [
      "indptr  [0 2 3 5]\n",
      "column  [0 1 2 0 2]\n",
      "shape  (3, 3)\n",
      "data  [1 2 3 4 5]\n",
      "csr\n",
      "  (0, 0)\t1\n",
      "  (0, 1)\t2\n",
      "  (1, 2)\t3\n",
      "  (2, 0)\t4\n",
      "  (2, 2)\t5\n",
      "array\n",
      "[[1 2 0]\n",
      " [0 0 3]\n",
      " [4 0 5]]\n"
     ]
    }
   ],
   "source": [
    "# TEST CASE - 2\n",
    "csr_mat = scipy.sparse.csr_matrix([[1, 2, 0], [0, 0, 3], [4, 0, 5]])\n",
    "print(\"indptr \", csr_mat.indptr)\n",
    "print(\"column \", csr_mat.indices)\n",
    "print(\"shape \", csr_mat.shape)\n",
    "print(\"data \", csr_mat.data)\n",
    "print(\"csr\")\n",
    "print(csr_mat)\n",
    "print(\"array\")\n",
    "print(csr_mat.toarray())"
   ]
  },
  {
   "attachments": {},
   "cell_type": "markdown",
   "metadata": {},
   "source": [
    "## TF-IDF"
   ]
  },
  {
   "cell_type": "code",
   "execution_count": 2,
   "metadata": {},
   "outputs": [
    {
     "data": {
      "text/html": [
       "<div>\n",
       "<style scoped>\n",
       "    .dataframe tbody tr th:only-of-type {\n",
       "        vertical-align: middle;\n",
       "    }\n",
       "\n",
       "    .dataframe tbody tr th {\n",
       "        vertical-align: top;\n",
       "    }\n",
       "\n",
       "    .dataframe thead th {\n",
       "        text-align: right;\n",
       "    }\n",
       "</style>\n",
       "<table border=\"1\" class=\"dataframe\">\n",
       "  <thead>\n",
       "    <tr style=\"text-align: right;\">\n",
       "      <th></th>\n",
       "      <th>document</th>\n",
       "      <th>second</th>\n",
       "    </tr>\n",
       "  </thead>\n",
       "  <tbody>\n",
       "    <tr>\n",
       "      <th>0</th>\n",
       "      <td>1.000000</td>\n",
       "      <td>0.000000</td>\n",
       "    </tr>\n",
       "    <tr>\n",
       "      <th>1</th>\n",
       "      <td>0.787223</td>\n",
       "      <td>0.616668</td>\n",
       "    </tr>\n",
       "    <tr>\n",
       "      <th>2</th>\n",
       "      <td>0.000000</td>\n",
       "      <td>0.000000</td>\n",
       "    </tr>\n",
       "    <tr>\n",
       "      <th>3</th>\n",
       "      <td>1.000000</td>\n",
       "      <td>0.000000</td>\n",
       "    </tr>\n",
       "  </tbody>\n",
       "</table>\n",
       "</div>"
      ],
      "text/plain": [
       "   document    second\n",
       "0  1.000000  0.000000\n",
       "1  0.787223  0.616668\n",
       "2  0.000000  0.000000\n",
       "3  1.000000  0.000000"
      ]
     },
     "execution_count": 2,
     "metadata": {},
     "output_type": "execute_result"
    }
   ],
   "source": [
    "from sklearn.feature_extraction.text import TfidfVectorizer\n",
    "import pandas as pd\n",
    "corpus = ['This is the first document.', 'This document is the second document.', 'And this is the third one.', 'Is this the first document?']\n",
    "vectorizer = TfidfVectorizer(stop_words=\"english\")\n",
    "X = vectorizer.fit(corpus).transform(corpus)\n",
    "# X = vectorizer.fit_transform(corpus)\n",
    "df = pd.DataFrame(X.toarray(), columns = vectorizer.get_feature_names_out())\n",
    "df"
   ]
  },
  {
   "cell_type": "code",
   "execution_count": 7,
   "metadata": {},
   "outputs": [
    {
     "name": "stdout",
     "output_type": "stream",
     "text": [
      "['document' 'second']\n",
      "[0 1 3 3 4]\n",
      "[1.         0.61666846 0.78722298 1.        ]\n",
      "[0 1 0 0]\n",
      "(4, 2)\n",
      "  (0, 0)\t1.0\n",
      "  (1, 1)\t0.6166684570284895\n",
      "  (1, 0)\t0.78722297610404\n",
      "  (3, 0)\t1.0\n",
      "<class 'scipy.sparse._csr.csr_matrix'>\n",
      "[1.22314355 1.91629073]\n"
     ]
    }
   ],
   "source": [
    "print(vectorizer.get_feature_names_out())\n",
    "print(X.indptr)\n",
    "print(X.data)\n",
    "print(X.indices)\n",
    "print(X.shape)\n",
    "print(X)\n",
    "print(type(X))\n",
    "print(vectorizer.idf_)"
   ]
  },
  {
   "attachments": {},
   "cell_type": "markdown",
   "metadata": {},
   "source": [
    "## MIXED TESTS"
   ]
  },
  {
   "cell_type": "code",
   "execution_count": 8,
   "metadata": {},
   "outputs": [
    {
     "name": "stdout",
     "output_type": "stream",
     "text": [
      "tf  1.0\n",
      "idf  1.2231435513142097\n"
     ]
    },
    {
     "data": {
      "text/plain": [
       "1.2231435513142097"
      ]
     },
     "execution_count": 8,
     "metadata": {},
     "output_type": "execute_result"
    }
   ],
   "source": [
    "import math\n",
    "tf = 1 / 1\n",
    "n = 4 # number of documents\n",
    "df_t = 3\n",
    "idf = math.log((1 + n) / (1 + df_t)) + 1\n",
    "print(\"tf \", tf)\n",
    "print(\"idf \",idf)\n",
    "tf*idf"
   ]
  },
  {
   "cell_type": "code",
   "execution_count": 12,
   "metadata": {},
   "outputs": [
    {
     "data": {
      "text/plain": [
       "0.6666685743250977"
      ]
     },
     "execution_count": 12,
     "metadata": {},
     "output_type": "execute_result"
    }
   ],
   "source": [
    "1/1.22314 * 0.815429"
   ]
  }
 ],
 "metadata": {
  "kernelspec": {
   "display_name": "venv",
   "language": "python",
   "name": "python3"
  },
  "language_info": {
   "codemirror_mode": {
    "name": "ipython",
    "version": 3
   },
   "file_extension": ".py",
   "mimetype": "text/x-python",
   "name": "python",
   "nbconvert_exporter": "python",
   "pygments_lexer": "ipython3",
   "version": "3.9.1"
  },
  "orig_nbformat": 4
 },
 "nbformat": 4,
 "nbformat_minor": 2
}
